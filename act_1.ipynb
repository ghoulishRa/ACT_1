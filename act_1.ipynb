{
 "cells": [
  {
   "cell_type": "code",
   "execution_count": null,
   "metadata": {},
   "outputs": [],
   "source": [
    "import cv2 as cv\n",
    "\n",
    "cap = cv.VideoCapture(0)\n",
    "\n",
    "frame_list = []\n",
    "full_list = []\n",
    "\n",
    "width = int(cap.get(cv.CAP_PROP_FRAME_WIDTH))\n",
    "height = int(cap.get(cv.CAP_PROP_FRAME_HEIGHT))\n",
    " \n",
    "forward = cv.VideoWriter('forward.mp4', cv.VideoWriter_fourcc(*'mp4v'),20,(width,height))\n",
    "backward = cv.VideoWriter(\"backward.mp4\", cv.VideoWriter_fourcc(*'mp4v'), 20, (width, height))\n",
    "full = cv.VideoWriter(\"full.mp4\", cv.VideoWriter_fourcc(*'mp4v'), 20, (width, height))\n",
    "\n",
    "while True:\n",
    "    ret, frame = cap.read()\n",
    "    if cv.waitKey(1) & 0xFF == ord('q'):\n",
    "        break\n",
    "    forward.write(frame)\n",
    "    cv.imshow('frame', frame)\n",
    "cap.release()\n",
    "forward.release()\n",
    "    \n",
    "cap1 = cv.VideoCapture(\"forward.mp4\")\n",
    "check, vid = cap1.read()\n",
    "\n",
    "while (check == True):\n",
    "    check, vid = cap1.read()\n",
    "    frame_list.append(vid)\n",
    "    full_list.append(vid)\n",
    "frame_list.pop()\n",
    "frame_list.reverse()\n",
    "\n",
    "for frame1 in frame_list:\n",
    "    backward.write(frame1)\n",
    "    full_list.append(frame1)\n",
    "    \n",
    "for frame2 in full_list:\n",
    "    full.write(frame2)  \n",
    "\n",
    "cap1.release()\n",
    "backward.release()\n",
    "full.release()\n",
    "cv.destroyAllWindows()\n"
   ]
  }
 ],
 "metadata": {
  "kernelspec": {
   "display_name": "Python 3",
   "language": "python",
   "name": "python3"
  },
  "language_info": {
   "codemirror_mode": {
    "name": "ipython",
    "version": 3
   },
   "file_extension": ".py",
   "mimetype": "text/x-python",
   "name": "python",
   "nbconvert_exporter": "python",
   "pygments_lexer": "ipython3",
   "version": "3.12.0"
  }
 },
 "nbformat": 4,
 "nbformat_minor": 2
}
